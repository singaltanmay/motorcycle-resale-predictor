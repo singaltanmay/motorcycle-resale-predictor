{
  "nbformat": 4,
  "nbformat_minor": 0,
  "metadata": {
    "colab": {
      "name": "Motorcycle Price Predictor.ipynb",
      "provenance": [],
      "authorship_tag": "ABX9TyNXWa+0wVOYUn9mBriJjVsx",
      "include_colab_link": true
    },
    "kernelspec": {
      "name": "python3",
      "display_name": "Python 3"
    },
    "language_info": {
      "name": "python"
    }
  },
  "cells": [
    {
      "cell_type": "markdown",
      "metadata": {
        "id": "view-in-github",
        "colab_type": "text"
      },
      "source": [
        "<a href=\"https://colab.research.google.com/github/singaltanmay/motorcycle-resale-predictor/blob/master/Motorcycle_Price_Predictor.ipynb\" target=\"_parent\"><img src=\"https://colab.research.google.com/assets/colab-badge.svg\" alt=\"Open In Colab\"/></a>"
      ]
    },
    {
      "cell_type": "code",
      "metadata": {
        "colab": {
          "base_uri": "https://localhost:8080/",
          "height": 206
        },
        "id": "yx0bSiaKd_ok",
        "outputId": "32bca83b-c972-4d06-ad7b-3d04c2f139ab"
      },
      "source": [
        "import pandas as pd\n",
        "df = pd.read_csv('bike_details.csv')\n",
        "df.head()"
      ],
      "execution_count": 91,
      "outputs": [
        {
          "output_type": "execute_result",
          "data": {
            "text/html": [
              "<div>\n",
              "<style scoped>\n",
              "    .dataframe tbody tr th:only-of-type {\n",
              "        vertical-align: middle;\n",
              "    }\n",
              "\n",
              "    .dataframe tbody tr th {\n",
              "        vertical-align: top;\n",
              "    }\n",
              "\n",
              "    .dataframe thead th {\n",
              "        text-align: right;\n",
              "    }\n",
              "</style>\n",
              "<table border=\"1\" class=\"dataframe\">\n",
              "  <thead>\n",
              "    <tr style=\"text-align: right;\">\n",
              "      <th></th>\n",
              "      <th>name</th>\n",
              "      <th>selling_price</th>\n",
              "      <th>year</th>\n",
              "      <th>seller_type</th>\n",
              "      <th>owner</th>\n",
              "      <th>km_driven</th>\n",
              "      <th>ex_showroom_price</th>\n",
              "    </tr>\n",
              "  </thead>\n",
              "  <tbody>\n",
              "    <tr>\n",
              "      <th>0</th>\n",
              "      <td>Royal Enfield Classic 350</td>\n",
              "      <td>175000</td>\n",
              "      <td>2019</td>\n",
              "      <td>Individual</td>\n",
              "      <td>1st owner</td>\n",
              "      <td>350</td>\n",
              "      <td>NaN</td>\n",
              "    </tr>\n",
              "    <tr>\n",
              "      <th>1</th>\n",
              "      <td>Honda Dio</td>\n",
              "      <td>45000</td>\n",
              "      <td>2017</td>\n",
              "      <td>Individual</td>\n",
              "      <td>1st owner</td>\n",
              "      <td>5650</td>\n",
              "      <td>NaN</td>\n",
              "    </tr>\n",
              "    <tr>\n",
              "      <th>2</th>\n",
              "      <td>Royal Enfield Classic Gunmetal Grey</td>\n",
              "      <td>150000</td>\n",
              "      <td>2018</td>\n",
              "      <td>Individual</td>\n",
              "      <td>1st owner</td>\n",
              "      <td>12000</td>\n",
              "      <td>148114.0</td>\n",
              "    </tr>\n",
              "    <tr>\n",
              "      <th>3</th>\n",
              "      <td>Yamaha Fazer FI V 2.0 [2016-2018]</td>\n",
              "      <td>65000</td>\n",
              "      <td>2015</td>\n",
              "      <td>Individual</td>\n",
              "      <td>1st owner</td>\n",
              "      <td>23000</td>\n",
              "      <td>89643.0</td>\n",
              "    </tr>\n",
              "    <tr>\n",
              "      <th>4</th>\n",
              "      <td>Yamaha SZ [2013-2014]</td>\n",
              "      <td>20000</td>\n",
              "      <td>2011</td>\n",
              "      <td>Individual</td>\n",
              "      <td>2nd owner</td>\n",
              "      <td>21000</td>\n",
              "      <td>NaN</td>\n",
              "    </tr>\n",
              "  </tbody>\n",
              "</table>\n",
              "</div>"
            ],
            "text/plain": [
              "                                  name  ...  ex_showroom_price\n",
              "0            Royal Enfield Classic 350  ...                NaN\n",
              "1                            Honda Dio  ...                NaN\n",
              "2  Royal Enfield Classic Gunmetal Grey  ...           148114.0\n",
              "3    Yamaha Fazer FI V 2.0 [2016-2018]  ...            89643.0\n",
              "4                Yamaha SZ [2013-2014]  ...                NaN\n",
              "\n",
              "[5 rows x 7 columns]"
            ]
          },
          "metadata": {
            "tags": []
          },
          "execution_count": 91
        }
      ]
    },
    {
      "cell_type": "code",
      "metadata": {
        "colab": {
          "base_uri": "https://localhost:8080/"
        },
        "id": "OoJK0VhHeugy",
        "outputId": "f10e2a0b-220a-4d2c-b9bd-7d370a9f4e2f"
      },
      "source": [
        "df.shape"
      ],
      "execution_count": 92,
      "outputs": [
        {
          "output_type": "execute_result",
          "data": {
            "text/plain": [
              "(1061, 7)"
            ]
          },
          "metadata": {
            "tags": []
          },
          "execution_count": 92
        }
      ]
    },
    {
      "cell_type": "code",
      "metadata": {
        "colab": {
          "base_uri": "https://localhost:8080/",
          "height": 300
        },
        "id": "4j_v4CI4ewMA",
        "outputId": "c60851e6-3d85-4af1-95bc-725452bd59bc"
      },
      "source": [
        "df.describe()"
      ],
      "execution_count": 93,
      "outputs": [
        {
          "output_type": "execute_result",
          "data": {
            "text/html": [
              "<div>\n",
              "<style scoped>\n",
              "    .dataframe tbody tr th:only-of-type {\n",
              "        vertical-align: middle;\n",
              "    }\n",
              "\n",
              "    .dataframe tbody tr th {\n",
              "        vertical-align: top;\n",
              "    }\n",
              "\n",
              "    .dataframe thead th {\n",
              "        text-align: right;\n",
              "    }\n",
              "</style>\n",
              "<table border=\"1\" class=\"dataframe\">\n",
              "  <thead>\n",
              "    <tr style=\"text-align: right;\">\n",
              "      <th></th>\n",
              "      <th>selling_price</th>\n",
              "      <th>year</th>\n",
              "      <th>km_driven</th>\n",
              "      <th>ex_showroom_price</th>\n",
              "    </tr>\n",
              "  </thead>\n",
              "  <tbody>\n",
              "    <tr>\n",
              "      <th>count</th>\n",
              "      <td>1061.000000</td>\n",
              "      <td>1061.000000</td>\n",
              "      <td>1061.000000</td>\n",
              "      <td>6.260000e+02</td>\n",
              "    </tr>\n",
              "    <tr>\n",
              "      <th>mean</th>\n",
              "      <td>59638.151744</td>\n",
              "      <td>2013.867107</td>\n",
              "      <td>34359.833176</td>\n",
              "      <td>8.795871e+04</td>\n",
              "    </tr>\n",
              "    <tr>\n",
              "      <th>std</th>\n",
              "      <td>56304.291973</td>\n",
              "      <td>4.301191</td>\n",
              "      <td>51623.152702</td>\n",
              "      <td>7.749659e+04</td>\n",
              "    </tr>\n",
              "    <tr>\n",
              "      <th>min</th>\n",
              "      <td>5000.000000</td>\n",
              "      <td>1988.000000</td>\n",
              "      <td>350.000000</td>\n",
              "      <td>3.049000e+04</td>\n",
              "    </tr>\n",
              "    <tr>\n",
              "      <th>25%</th>\n",
              "      <td>28000.000000</td>\n",
              "      <td>2011.000000</td>\n",
              "      <td>13500.000000</td>\n",
              "      <td>5.485200e+04</td>\n",
              "    </tr>\n",
              "    <tr>\n",
              "      <th>50%</th>\n",
              "      <td>45000.000000</td>\n",
              "      <td>2015.000000</td>\n",
              "      <td>25000.000000</td>\n",
              "      <td>7.275250e+04</td>\n",
              "    </tr>\n",
              "    <tr>\n",
              "      <th>75%</th>\n",
              "      <td>70000.000000</td>\n",
              "      <td>2017.000000</td>\n",
              "      <td>43000.000000</td>\n",
              "      <td>8.703150e+04</td>\n",
              "    </tr>\n",
              "    <tr>\n",
              "      <th>max</th>\n",
              "      <td>760000.000000</td>\n",
              "      <td>2020.000000</td>\n",
              "      <td>880000.000000</td>\n",
              "      <td>1.278000e+06</td>\n",
              "    </tr>\n",
              "  </tbody>\n",
              "</table>\n",
              "</div>"
            ],
            "text/plain": [
              "       selling_price         year      km_driven  ex_showroom_price\n",
              "count    1061.000000  1061.000000    1061.000000       6.260000e+02\n",
              "mean    59638.151744  2013.867107   34359.833176       8.795871e+04\n",
              "std     56304.291973     4.301191   51623.152702       7.749659e+04\n",
              "min      5000.000000  1988.000000     350.000000       3.049000e+04\n",
              "25%     28000.000000  2011.000000   13500.000000       5.485200e+04\n",
              "50%     45000.000000  2015.000000   25000.000000       7.275250e+04\n",
              "75%     70000.000000  2017.000000   43000.000000       8.703150e+04\n",
              "max    760000.000000  2020.000000  880000.000000       1.278000e+06"
            ]
          },
          "metadata": {
            "tags": []
          },
          "execution_count": 93
        }
      ]
    },
    {
      "cell_type": "code",
      "metadata": {
        "colab": {
          "base_uri": "https://localhost:8080/"
        },
        "id": "7pG22v6bewy9",
        "outputId": "65c69108-b341-4d37-cb23-5d03c03d6a15"
      },
      "source": [
        "final_dataset = df\n",
        "final_dataset.columns"
      ],
      "execution_count": 94,
      "outputs": [
        {
          "output_type": "execute_result",
          "data": {
            "text/plain": [
              "Index(['name', 'selling_price', 'year', 'seller_type', 'owner', 'km_driven',\n",
              "       'ex_showroom_price'],\n",
              "      dtype='object')"
            ]
          },
          "metadata": {
            "tags": []
          },
          "execution_count": 94
        }
      ]
    },
    {
      "cell_type": "code",
      "metadata": {
        "id": "YWoe0b0NgYFn"
      },
      "source": [
        "# Removing name from dataset as it is not statistically significant\n",
        "final_dataset = df[['selling_price', 'year', 'seller_type', 'owner', 'km_driven',\n",
        "       'ex_showroom_price']]\n",
        "\n",
        "# Removing rows whose ex_showroom_price is NaN\n",
        "final_dataset = final_dataset.dropna(axis=0, how='any', thresh=None, subset=[\"ex_showroom_price\"], inplace=False)"
      ],
      "execution_count": 95,
      "outputs": []
    },
    {
      "cell_type": "code",
      "metadata": {
        "colab": {
          "base_uri": "https://localhost:8080/"
        },
        "id": "uGLJtWIuk6MF",
        "outputId": "b9729be9-0c6d-44d8-b2dd-2037c35ffdb4"
      },
      "source": [
        "print(final_dataset['ex_showroom_price'].unique())"
      ],
      "execution_count": 96,
      "outputs": [
        {
          "output_type": "stream",
          "text": [
            "[ 148114.   89643.   53857.   87719.   60122.   78712.   47255.   95955.\n",
            "  351680.   58314.  117926.  132680.   44389.   53900.   56147.   84751.\n",
            "   61600.   79432.   78350.   71049.   57557.  202310.   71150.   56750.\n",
            "   84042.   69750.   59844.   42859.   73413.   49900.   59422.   57549.\n",
            "   51994.   80350.   54605.   88161.   78513.   50098.  195500.   92074.\n",
            "  164004.   74295.   49642.   51112.   53751.   50267.   61653.   70851.\n",
            "   53079.  133680.  181445.   65626.   58438.   61118.   75936.  180525.\n",
            "   87543.   80435.   85011. 1278000.  155740.  202127.   86744.  156304.\n",
            "   84246.   49521.   64589.   69983.   54299.   72303.   65800.   58757.\n",
            "   47032.   79233.  118997.   52949.   64071.   61545.  168482.  163331.\n",
            "   59095.   75502.   52271.   63331.   52372.   58630.   94703.   53436.\n",
            "   59183.   56925.   55980.   52790.   81508.  199275.   87042.  107500.\n",
            "   67187.   67214.   49412.  599000.  317934.   54760.  171646.  752020.\n",
            "   67469.   78316.   44140.  534000.   72973.   57112.   54500.   66492.\n",
            "  349000.  190874.   80821.   51600.   63537.   67722.   77900.   55600.\n",
            "   53830.   84480.   54580.   54852.   44756.   50280.  204977.   71757.\n",
            "   54593.  110240.   54586.   85766.  108000.  189313.   47343.   92210.\n",
            "   63180.   93400.  164095.   71681.   44493.   54475.   54080.   83437.\n",
            "   64750.   76572.   96500.   49211.   76632.  142680.   66697.  129662.\n",
            "   77545.   57241.   51685.   47108.   82813.  103170.   72492.   44814.\n",
            "   54253.   51185.   49600.   92661.   52710.   72532.   49146.   58900.\n",
            "   53415.  132513.   59640.   57957.   49150.   58906.  146400.   62317.\n",
            "   30490.  589000.  170994.  198605.  208902.   46779.  360000.   37675.\n",
            "   47186.   46575.   83340.   65599.  190000.  182000.  178000.  160000.\n",
            "  147000.  237000.  345000.  150000.  240000.  140000.  126000.  117000.\n",
            "  175000.   95000.   80000.   87000.   84000.   82000.   81000.   74000.\n",
            "  120000.   78700.   99000.   94000.   82600.   55000.   88000.   51000.\n",
            "   52000.   54000.   73000.   83000.   64000.   72000.  105000.   57000.\n",
            "   48000.   58000.   47000.   75000.   65000.   32000.]\n"
          ],
          "name": "stdout"
        }
      ]
    },
    {
      "cell_type": "code",
      "metadata": {
        "colab": {
          "base_uri": "https://localhost:8080/",
          "height": 206
        },
        "id": "gwxGit8Rew9a",
        "outputId": "4e876dc3-f580-4466-a6b2-528a062f6962"
      },
      "source": [
        "# Adding a new column\n",
        "final_dataset['current_Year']=2021\n",
        "\n",
        "# Calculating number of years\n",
        "final_dataset['no_year'] = final_dataset['current_Year'] - final_dataset['year']\n",
        "\n",
        "# Removing cols not needed anymore\n",
        "final_dataset.drop(['year'], axis=1, inplace=True)\n",
        "final_dataset.drop(['current_Year'], axis=1, inplace=True)\n",
        "\n",
        "final_dataset.head()"
      ],
      "execution_count": 97,
      "outputs": [
        {
          "output_type": "execute_result",
          "data": {
            "text/html": [
              "<div>\n",
              "<style scoped>\n",
              "    .dataframe tbody tr th:only-of-type {\n",
              "        vertical-align: middle;\n",
              "    }\n",
              "\n",
              "    .dataframe tbody tr th {\n",
              "        vertical-align: top;\n",
              "    }\n",
              "\n",
              "    .dataframe thead th {\n",
              "        text-align: right;\n",
              "    }\n",
              "</style>\n",
              "<table border=\"1\" class=\"dataframe\">\n",
              "  <thead>\n",
              "    <tr style=\"text-align: right;\">\n",
              "      <th></th>\n",
              "      <th>selling_price</th>\n",
              "      <th>seller_type</th>\n",
              "      <th>owner</th>\n",
              "      <th>km_driven</th>\n",
              "      <th>ex_showroom_price</th>\n",
              "      <th>no_year</th>\n",
              "    </tr>\n",
              "  </thead>\n",
              "  <tbody>\n",
              "    <tr>\n",
              "      <th>2</th>\n",
              "      <td>150000</td>\n",
              "      <td>Individual</td>\n",
              "      <td>1st owner</td>\n",
              "      <td>12000</td>\n",
              "      <td>148114.0</td>\n",
              "      <td>3</td>\n",
              "    </tr>\n",
              "    <tr>\n",
              "      <th>3</th>\n",
              "      <td>65000</td>\n",
              "      <td>Individual</td>\n",
              "      <td>1st owner</td>\n",
              "      <td>23000</td>\n",
              "      <td>89643.0</td>\n",
              "      <td>6</td>\n",
              "    </tr>\n",
              "    <tr>\n",
              "      <th>5</th>\n",
              "      <td>18000</td>\n",
              "      <td>Individual</td>\n",
              "      <td>1st owner</td>\n",
              "      <td>60000</td>\n",
              "      <td>53857.0</td>\n",
              "      <td>11</td>\n",
              "    </tr>\n",
              "    <tr>\n",
              "      <th>6</th>\n",
              "      <td>78500</td>\n",
              "      <td>Individual</td>\n",
              "      <td>1st owner</td>\n",
              "      <td>17000</td>\n",
              "      <td>87719.0</td>\n",
              "      <td>3</td>\n",
              "    </tr>\n",
              "    <tr>\n",
              "      <th>9</th>\n",
              "      <td>50000</td>\n",
              "      <td>Individual</td>\n",
              "      <td>1st owner</td>\n",
              "      <td>42000</td>\n",
              "      <td>60122.0</td>\n",
              "      <td>5</td>\n",
              "    </tr>\n",
              "  </tbody>\n",
              "</table>\n",
              "</div>"
            ],
            "text/plain": [
              "   selling_price seller_type      owner  km_driven  ex_showroom_price  no_year\n",
              "2         150000  Individual  1st owner      12000           148114.0        3\n",
              "3          65000  Individual  1st owner      23000            89643.0        6\n",
              "5          18000  Individual  1st owner      60000            53857.0       11\n",
              "6          78500  Individual  1st owner      17000            87719.0        3\n",
              "9          50000  Individual  1st owner      42000            60122.0        5"
            ]
          },
          "metadata": {
            "tags": []
          },
          "execution_count": 97
        }
      ]
    },
    {
      "cell_type": "code",
      "metadata": {
        "id": "7M6oZxr6gHzo"
      },
      "source": [
        "# one-hot encoding with drop_first to evade summy variable trap\n",
        "final_dataset = pd.get_dummies(final_dataset, drop_first=True)"
      ],
      "execution_count": 98,
      "outputs": []
    },
    {
      "cell_type": "code",
      "metadata": {
        "colab": {
          "base_uri": "https://localhost:8080/",
          "height": 300
        },
        "id": "mcqme9GGexGY",
        "outputId": "d2b0eae3-765b-4ba1-b92f-6f64cba713c8"
      },
      "source": [
        "final_dataset.corr()"
      ],
      "execution_count": 99,
      "outputs": [
        {
          "output_type": "execute_result",
          "data": {
            "text/html": [
              "<div>\n",
              "<style scoped>\n",
              "    .dataframe tbody tr th:only-of-type {\n",
              "        vertical-align: middle;\n",
              "    }\n",
              "\n",
              "    .dataframe tbody tr th {\n",
              "        vertical-align: top;\n",
              "    }\n",
              "\n",
              "    .dataframe thead th {\n",
              "        text-align: right;\n",
              "    }\n",
              "</style>\n",
              "<table border=\"1\" class=\"dataframe\">\n",
              "  <thead>\n",
              "    <tr style=\"text-align: right;\">\n",
              "      <th></th>\n",
              "      <th>selling_price</th>\n",
              "      <th>km_driven</th>\n",
              "      <th>ex_showroom_price</th>\n",
              "      <th>no_year</th>\n",
              "      <th>seller_type_Individual</th>\n",
              "      <th>owner_2nd owner</th>\n",
              "      <th>owner_3rd owner</th>\n",
              "      <th>owner_4th owner</th>\n",
              "    </tr>\n",
              "  </thead>\n",
              "  <tbody>\n",
              "    <tr>\n",
              "      <th>selling_price</th>\n",
              "      <td>1.000000</td>\n",
              "      <td>-0.194093</td>\n",
              "      <td>0.918583</td>\n",
              "      <td>-0.350654</td>\n",
              "      <td>-0.004508</td>\n",
              "      <td>0.030686</td>\n",
              "      <td>-0.023316</td>\n",
              "      <td>0.180802</td>\n",
              "    </tr>\n",
              "    <tr>\n",
              "      <th>km_driven</th>\n",
              "      <td>-0.194093</td>\n",
              "      <td>1.000000</td>\n",
              "      <td>-0.122011</td>\n",
              "      <td>0.329823</td>\n",
              "      <td>0.027825</td>\n",
              "      <td>-0.021622</td>\n",
              "      <td>-0.002698</td>\n",
              "      <td>-0.023037</td>\n",
              "    </tr>\n",
              "    <tr>\n",
              "      <th>ex_showroom_price</th>\n",
              "      <td>0.918583</td>\n",
              "      <td>-0.122011</td>\n",
              "      <td>1.000000</td>\n",
              "      <td>-0.126378</td>\n",
              "      <td>-0.000517</td>\n",
              "      <td>0.109045</td>\n",
              "      <td>-0.020923</td>\n",
              "      <td>0.230409</td>\n",
              "    </tr>\n",
              "    <tr>\n",
              "      <th>no_year</th>\n",
              "      <td>-0.350654</td>\n",
              "      <td>0.329823</td>\n",
              "      <td>-0.126378</td>\n",
              "      <td>1.000000</td>\n",
              "      <td>0.012262</td>\n",
              "      <td>0.129020</td>\n",
              "      <td>0.041416</td>\n",
              "      <td>0.010613</td>\n",
              "    </tr>\n",
              "    <tr>\n",
              "      <th>seller_type_Individual</th>\n",
              "      <td>-0.004508</td>\n",
              "      <td>0.027825</td>\n",
              "      <td>-0.000517</td>\n",
              "      <td>0.012262</td>\n",
              "      <td>1.000000</td>\n",
              "      <td>0.023823</td>\n",
              "      <td>0.004815</td>\n",
              "      <td>0.002776</td>\n",
              "    </tr>\n",
              "    <tr>\n",
              "      <th>owner_2nd owner</th>\n",
              "      <td>0.030686</td>\n",
              "      <td>-0.021622</td>\n",
              "      <td>0.109045</td>\n",
              "      <td>0.129020</td>\n",
              "      <td>0.023823</td>\n",
              "      <td>1.000000</td>\n",
              "      <td>-0.023823</td>\n",
              "      <td>-0.013732</td>\n",
              "    </tr>\n",
              "    <tr>\n",
              "      <th>owner_3rd owner</th>\n",
              "      <td>-0.023316</td>\n",
              "      <td>-0.002698</td>\n",
              "      <td>-0.020923</td>\n",
              "      <td>0.041416</td>\n",
              "      <td>0.004815</td>\n",
              "      <td>-0.023823</td>\n",
              "      <td>1.000000</td>\n",
              "      <td>-0.002776</td>\n",
              "    </tr>\n",
              "    <tr>\n",
              "      <th>owner_4th owner</th>\n",
              "      <td>0.180802</td>\n",
              "      <td>-0.023037</td>\n",
              "      <td>0.230409</td>\n",
              "      <td>0.010613</td>\n",
              "      <td>0.002776</td>\n",
              "      <td>-0.013732</td>\n",
              "      <td>-0.002776</td>\n",
              "      <td>1.000000</td>\n",
              "    </tr>\n",
              "  </tbody>\n",
              "</table>\n",
              "</div>"
            ],
            "text/plain": [
              "                        selling_price  ...  owner_4th owner\n",
              "selling_price                1.000000  ...         0.180802\n",
              "km_driven                   -0.194093  ...        -0.023037\n",
              "ex_showroom_price            0.918583  ...         0.230409\n",
              "no_year                     -0.350654  ...         0.010613\n",
              "seller_type_Individual      -0.004508  ...         0.002776\n",
              "owner_2nd owner              0.030686  ...        -0.013732\n",
              "owner_3rd owner             -0.023316  ...        -0.002776\n",
              "owner_4th owner              0.180802  ...         1.000000\n",
              "\n",
              "[8 rows x 8 columns]"
            ]
          },
          "metadata": {
            "tags": []
          },
          "execution_count": 99
        }
      ]
    },
    {
      "cell_type": "code",
      "metadata": {
        "colab": {
          "base_uri": "https://localhost:8080/",
          "height": 1000
        },
        "id": "HUDnuZ7VexQo",
        "outputId": "0acb0d3e-56e1-43a9-8cf9-2de1014efeca"
      },
      "source": [
        "import seaborn as sns\n",
        "import matplotlib.pyplot as plt\n",
        "%matplotlib inline\n",
        "corrmat = final_dataset.corr()\n",
        "top_corr_features = corrmat.index\n",
        "plt.figure(figsize=(20,20))\n",
        "# plot heatmap\n",
        "g = sns.heatmap(final_dataset[top_corr_features].corr(), annot=True, cmap=\"RdYlGn\")"
      ],
      "execution_count": 100,
      "outputs": [
        {
          "output_type": "display_data",
          "data": {
            "image/png": "[encoded data removed]",
            "text/plain": [
              "<Figure size 1440x1440 with 2 Axes>"
            ]
          },
          "metadata": {
            "tags": [],
            "needs_background": "light"
          }
        }
      ]
    },
    {
      "cell_type": "code",
      "metadata": {
        "colab": {
          "base_uri": "https://localhost:8080/",
          "height": 206
        },
        "id": "7DeVl4UPexXV",
        "outputId": "60b451fd-8c47-4d18-fdab-8ed536a9f0d8"
      },
      "source": [
        "final_dataset.head()"
      ],
      "execution_count": 101,
      "outputs": [
        {
          "output_type": "execute_result",
          "data": {
            "text/html": [
              "<div>\n",
              "<style scoped>\n",
              "    .dataframe tbody tr th:only-of-type {\n",
              "        vertical-align: middle;\n",
              "    }\n",
              "\n",
              "    .dataframe tbody tr th {\n",
              "        vertical-align: top;\n",
              "    }\n",
              "\n",
              "    .dataframe thead th {\n",
              "        text-align: right;\n",
              "    }\n",
              "</style>\n",
              "<table border=\"1\" class=\"dataframe\">\n",
              "  <thead>\n",
              "    <tr style=\"text-align: right;\">\n",
              "      <th></th>\n",
              "      <th>selling_price</th>\n",
              "      <th>km_driven</th>\n",
              "      <th>ex_showroom_price</th>\n",
              "      <th>no_year</th>\n",
              "      <th>seller_type_Individual</th>\n",
              "      <th>owner_2nd owner</th>\n",
              "      <th>owner_3rd owner</th>\n",
              "      <th>owner_4th owner</th>\n",
              "    </tr>\n",
              "  </thead>\n",
              "  <tbody>\n",
              "    <tr>\n",
              "      <th>2</th>\n",
              "      <td>150000</td>\n",
              "      <td>12000</td>\n",
              "      <td>148114.0</td>\n",
              "      <td>3</td>\n",
              "      <td>1</td>\n",
              "      <td>0</td>\n",
              "      <td>0</td>\n",
              "      <td>0</td>\n",
              "    </tr>\n",
              "    <tr>\n",
              "      <th>3</th>\n",
              "      <td>65000</td>\n",
              "      <td>23000</td>\n",
              "      <td>89643.0</td>\n",
              "      <td>6</td>\n",
              "      <td>1</td>\n",
              "      <td>0</td>\n",
              "      <td>0</td>\n",
              "      <td>0</td>\n",
              "    </tr>\n",
              "    <tr>\n",
              "      <th>5</th>\n",
              "      <td>18000</td>\n",
              "      <td>60000</td>\n",
              "      <td>53857.0</td>\n",
              "      <td>11</td>\n",
              "      <td>1</td>\n",
              "      <td>0</td>\n",
              "      <td>0</td>\n",
              "      <td>0</td>\n",
              "    </tr>\n",
              "    <tr>\n",
              "      <th>6</th>\n",
              "      <td>78500</td>\n",
              "      <td>17000</td>\n",
              "      <td>87719.0</td>\n",
              "      <td>3</td>\n",
              "      <td>1</td>\n",
              "      <td>0</td>\n",
              "      <td>0</td>\n",
              "      <td>0</td>\n",
              "    </tr>\n",
              "    <tr>\n",
              "      <th>9</th>\n",
              "      <td>50000</td>\n",
              "      <td>42000</td>\n",
              "      <td>60122.0</td>\n",
              "      <td>5</td>\n",
              "      <td>1</td>\n",
              "      <td>0</td>\n",
              "      <td>0</td>\n",
              "      <td>0</td>\n",
              "    </tr>\n",
              "  </tbody>\n",
              "</table>\n",
              "</div>"
            ],
            "text/plain": [
              "   selling_price  km_driven  ...  owner_3rd owner  owner_4th owner\n",
              "2         150000      12000  ...                0                0\n",
              "3          65000      23000  ...                0                0\n",
              "5          18000      60000  ...                0                0\n",
              "6          78500      17000  ...                0                0\n",
              "9          50000      42000  ...                0                0\n",
              "\n",
              "[5 rows x 8 columns]"
            ]
          },
          "metadata": {
            "tags": []
          },
          "execution_count": 101
        }
      ]
    },
    {
      "cell_type": "code",
      "metadata": {
        "id": "X_9myoL1hR4h"
      },
      "source": [
        "# All other are independent features\n",
        "X = final_dataset.iloc[:,1:]\n",
        "# Selling price is the dependent feature\n",
        "Y = final_dataset.iloc[:,0]"
      ],
      "execution_count": 102,
      "outputs": []
    },
    {
      "cell_type": "code",
      "metadata": {
        "id": "2CRStXPSexbi"
      },
      "source": [
        "X['km_driven'] = X['km_driven'].div(1000)\n",
        "Y = Y.div(1000)"
      ],
      "execution_count": 103,
      "outputs": []
    },
    {
      "cell_type": "code",
      "metadata": {
        "colab": {
          "base_uri": "https://localhost:8080/",
          "height": 206
        },
        "id": "XmoTqJe8kPHB",
        "outputId": "3fcbe72f-baa6-43e2-b2ac-fe5cd28e4106"
      },
      "source": [
        "X.head()"
      ],
      "execution_count": 107,
      "outputs": [
        {
          "output_type": "execute_result",
          "data": {
            "text/html": [
              "<div>\n",
              "<style scoped>\n",
              "    .dataframe tbody tr th:only-of-type {\n",
              "        vertical-align: middle;\n",
              "    }\n",
              "\n",
              "    .dataframe tbody tr th {\n",
              "        vertical-align: top;\n",
              "    }\n",
              "\n",
              "    .dataframe thead th {\n",
              "        text-align: right;\n",
              "    }\n",
              "</style>\n",
              "<table border=\"1\" class=\"dataframe\">\n",
              "  <thead>\n",
              "    <tr style=\"text-align: right;\">\n",
              "      <th></th>\n",
              "      <th>km_driven</th>\n",
              "      <th>ex_showroom_price</th>\n",
              "      <th>no_year</th>\n",
              "      <th>seller_type_Individual</th>\n",
              "      <th>owner_2nd owner</th>\n",
              "      <th>owner_3rd owner</th>\n",
              "      <th>owner_4th owner</th>\n",
              "    </tr>\n",
              "  </thead>\n",
              "  <tbody>\n",
              "    <tr>\n",
              "      <th>2</th>\n",
              "      <td>12.0</td>\n",
              "      <td>148114.0</td>\n",
              "      <td>3</td>\n",
              "      <td>1</td>\n",
              "      <td>0</td>\n",
              "      <td>0</td>\n",
              "      <td>0</td>\n",
              "    </tr>\n",
              "    <tr>\n",
              "      <th>3</th>\n",
              "      <td>23.0</td>\n",
              "      <td>89643.0</td>\n",
              "      <td>6</td>\n",
              "      <td>1</td>\n",
              "      <td>0</td>\n",
              "      <td>0</td>\n",
              "      <td>0</td>\n",
              "    </tr>\n",
              "    <tr>\n",
              "      <th>5</th>\n",
              "      <td>60.0</td>\n",
              "      <td>53857.0</td>\n",
              "      <td>11</td>\n",
              "      <td>1</td>\n",
              "      <td>0</td>\n",
              "      <td>0</td>\n",
              "      <td>0</td>\n",
              "    </tr>\n",
              "    <tr>\n",
              "      <th>6</th>\n",
              "      <td>17.0</td>\n",
              "      <td>87719.0</td>\n",
              "      <td>3</td>\n",
              "      <td>1</td>\n",
              "      <td>0</td>\n",
              "      <td>0</td>\n",
              "      <td>0</td>\n",
              "    </tr>\n",
              "    <tr>\n",
              "      <th>9</th>\n",
              "      <td>42.0</td>\n",
              "      <td>60122.0</td>\n",
              "      <td>5</td>\n",
              "      <td>1</td>\n",
              "      <td>0</td>\n",
              "      <td>0</td>\n",
              "      <td>0</td>\n",
              "    </tr>\n",
              "  </tbody>\n",
              "</table>\n",
              "</div>"
            ],
            "text/plain": [
              "   km_driven  ex_showroom_price  ...  owner_3rd owner  owner_4th owner\n",
              "2       12.0           148114.0  ...                0                0\n",
              "3       23.0            89643.0  ...                0                0\n",
              "5       60.0            53857.0  ...                0                0\n",
              "6       17.0            87719.0  ...                0                0\n",
              "9       42.0            60122.0  ...                0                0\n",
              "\n",
              "[5 rows x 7 columns]"
            ]
          },
          "metadata": {
            "tags": []
          },
          "execution_count": 107
        }
      ]
    },
    {
      "cell_type": "code",
      "metadata": {
        "colab": {
          "base_uri": "https://localhost:8080/"
        },
        "id": "Z4cfytgxexe8",
        "outputId": "97b36368-68e4-45b2-ff73-d106866280f3"
      },
      "source": [
        "Y.head()"
      ],
      "execution_count": 105,
      "outputs": [
        {
          "output_type": "execute_result",
          "data": {
            "text/plain": [
              "2    150.0\n",
              "3     65.0\n",
              "5     18.0\n",
              "6     78.5\n",
              "9     50.0\n",
              "Name: selling_price, dtype: float64"
            ]
          },
          "metadata": {
            "tags": []
          },
          "execution_count": 105
        }
      ]
    },
    {
      "cell_type": "code",
      "metadata": {
        "colab": {
          "base_uri": "https://localhost:8080/"
        },
        "id": "qz-KGU5lesMZ",
        "outputId": "8dce50c2-685d-430e-8f8b-22d545be0b66"
      },
      "source": [
        "# Feature importance\n",
        "from sklearn.ensemble import ExtraTreesRegressor\n",
        "model = ExtraTreesRegressor()\n",
        "model.fit(X,Y)\n",
        "print(model.feature_importances_)"
      ],
      "execution_count": 109,
      "outputs": [
        {
          "output_type": "stream",
          "text": [
            "[3.24380065e-02 8.73701854e-01 7.69702574e-02 2.86049026e-04\n",
            " 1.39409146e-02 5.81188940e-05 2.60479941e-03]\n"
          ],
          "name": "stdout"
        }
      ]
    },
    {
      "cell_type": "code",
      "metadata": {
        "colab": {
          "base_uri": "https://localhost:8080/",
          "height": 265
        },
        "id": "LzN6QKRWhacb",
        "outputId": "a5b7cb22-f4f9-4e09-ae00-ffff4a8e8b3d"
      },
      "source": [
        "#plot graph of feature importances for better visualization\n",
        "feat_importances = pd.Series(model.feature_importances_, index=X.columns)\n",
        "feat_importances.nlargest(5).plot(kind='barh')\n",
        "plt.show()"
      ],
      "execution_count": 110,
      "outputs": [
        {
          "output_type": "display_data",
          "data": {
            "image/png": "[encoded data removed]",
            "text/plain": [
              "<Figure size 432x288 with 1 Axes>"
            ]
          },
          "metadata": {
            "tags": [],
            "needs_background": "light"
          }
        }
      ]
    },
    {
      "cell_type": "code",
      "metadata": {
        "id": "cijqy8G6hahJ"
      },
      "source": [
        "from sklearn.model_selection import train_test_split\n",
        "X_train, X_test, Y_train, Y_test = train_test_split(X, Y, test_size=0.2, random_state=42)"
      ],
      "execution_count": 111,
      "outputs": []
    },
    {
      "cell_type": "code",
      "metadata": {
        "colab": {
          "base_uri": "https://localhost:8080/"
        },
        "id": "D7twfGyzl5Yi",
        "outputId": "cd92dc9c-d013-413a-ec88-9397de9cedbd"
      },
      "source": [
        "X_train.shape"
      ],
      "execution_count": 112,
      "outputs": [
        {
          "output_type": "execute_result",
          "data": {
            "text/plain": [
              "(500, 7)"
            ]
          },
          "metadata": {
            "tags": []
          },
          "execution_count": 112
        }
      ]
    },
    {
      "cell_type": "code",
      "metadata": {
        "colab": {
          "base_uri": "https://localhost:8080/"
        },
        "id": "aSZcDt33haly",
        "outputId": "e3a66b20-ea60-4798-e56a-3ece3f5cea3e"
      },
      "source": [
        "import numpy as np\n",
        "# Hyperparameters\n",
        "\n",
        "# Number of trees in random forest\n",
        "n_estimators=[int(x) for x in np.linspace(start = 100, stop = 1200, num = 12)]\n",
        "\n",
        "# Number of features to consider at every split\n",
        "max_features = ['auto', 'sqrt']\n",
        "\n",
        "# Number of levels in tree\n",
        "max_depth = [int (x) for x in np.linspace(5, 30, num = 6)]\n",
        "\n",
        "# Minimum number of samples required to split a node\n",
        "min_samples_split = [2,5,10,15,100]\n",
        "\n",
        "# Minimum number of samples requiered at each leaf node\n",
        "min_samples_leaf = [1,2,5,10]\n",
        "\n",
        "# Create the random grid\n",
        "random_grid = {\n",
        "    'n_estimators' : n_estimators,\n",
        "    'max_features' : max_features,\n",
        "    'max_depth' : max_depth,\n",
        "    'min_samples_split' : min_samples_split,\n",
        "    'min_samples_leaf' : min_samples_leaf    \n",
        "}\n",
        "print(random_grid)"
      ],
      "execution_count": 113,
      "outputs": [
        {
          "output_type": "stream",
          "text": [
            "{'n_estimators': [100, 200, 300, 400, 500, 600, 700, 800, 900, 1000, 1100, 1200], 'max_features': ['auto', 'sqrt'], 'max_depth': [5, 10, 15, 20, 25, 30], 'min_samples_split': [2, 5, 10, 15, 100], 'min_samples_leaf': [1, 2, 5, 10]}\n"
          ],
          "name": "stdout"
        }
      ]
    },
    {
      "cell_type": "code",
      "metadata": {
        "id": "udXN-T2ehapa"
      },
      "source": [
        "from sklearn.ensemble import RandomForestRegressor\n",
        "rf = RandomForestRegressor()\n",
        "\n",
        "# RandomizedSearchCV will select the best parameters from the random_grid\n",
        "from sklearn.model_selection import RandomizedSearchCV\n",
        "rf_random = RandomizedSearchCV(estimator = rf, param_distributions = random_grid, scoring = 'neg_mean_squared_error', n_iter = 10, cv = 5, verbose = 2, random_state=42, n_jobs = 1)"
      ],
      "execution_count": 116,
      "outputs": []
    },
    {
      "cell_type": "code",
      "metadata": {
        "colab": {
          "base_uri": "https://localhost:8080/"
        },
        "id": "qiWxnU-8hasq",
        "outputId": "bc2d73a2-12ce-4f40-acfc-b5340c4e1ddf"
      },
      "source": [
        "# Training the model\n",
        "rf_random.fit(X_train, Y_train)"
      ],
      "execution_count": 128,
      "outputs": [
        {
          "output_type": "stream",
          "text": [
            "Fitting 5 folds for each of 10 candidates, totalling 50 fits\n",
            "[CV] n_estimators=900, min_samples_split=5, min_samples_leaf=5, max_features=sqrt, max_depth=10 \n"
          ],
          "name": "stdout"
        },
        {
          "output_type": "stream",
          "text": [
            "[Parallel(n_jobs=1)]: Using backend SequentialBackend with 1 concurrent workers.\n"
          ],
          "name": "stderr"
        },
        {
          "output_type": "stream",
          "text": [
            "[CV]  n_estimators=900, min_samples_split=5, min_samples_leaf=5, max_features=sqrt, max_depth=10, total=   1.4s\n",
            "[CV] n_estimators=900, min_samples_split=5, min_samples_leaf=5, max_features=sqrt, max_depth=10 \n"
          ],
          "name": "stdout"
        },
        {
          "output_type": "stream",
          "text": [
            "[Parallel(n_jobs=1)]: Done   1 out of   1 | elapsed:    1.4s remaining:    0.0s\n"
          ],
          "name": "stderr"
        },
        {
          "output_type": "stream",
          "text": [
            "[CV]  n_estimators=900, min_samples_split=5, min_samples_leaf=5, max_features=sqrt, max_depth=10, total=   1.4s\n",
            "[CV] n_estimators=900, min_samples_split=5, min_samples_leaf=5, max_features=sqrt, max_depth=10 \n",
            "[CV]  n_estimators=900, min_samples_split=5, min_samples_leaf=5, max_features=sqrt, max_depth=10, total=   1.3s\n",
            "[CV] n_estimators=900, min_samples_split=5, min_samples_leaf=5, max_features=sqrt, max_depth=10 \n",
            "[CV]  n_estimators=900, min_samples_split=5, min_samples_leaf=5, max_features=sqrt, max_depth=10, total=   1.3s\n",
            "[CV] n_estimators=900, min_samples_split=5, min_samples_leaf=5, max_features=sqrt, max_depth=10 \n",
            "[CV]  n_estimators=900, min_samples_split=5, min_samples_leaf=5, max_features=sqrt, max_depth=10, total=   1.3s\n",
            "[CV] n_estimators=1100, min_samples_split=10, min_samples_leaf=2, max_features=sqrt, max_depth=15 \n",
            "[CV]  n_estimators=1100, min_samples_split=10, min_samples_leaf=2, max_features=sqrt, max_depth=15, total=   1.8s\n",
            "[CV] n_estimators=1100, min_samples_split=10, min_samples_leaf=2, max_features=sqrt, max_depth=15 \n",
            "[CV]  n_estimators=1100, min_samples_split=10, min_samples_leaf=2, max_features=sqrt, max_depth=15, total=   1.7s\n",
            "[CV] n_estimators=1100, min_samples_split=10, min_samples_leaf=2, max_features=sqrt, max_depth=15 \n",
            "[CV]  n_estimators=1100, min_samples_split=10, min_samples_leaf=2, max_features=sqrt, max_depth=15, total=   1.8s\n",
            "[CV] n_estimators=1100, min_samples_split=10, min_samples_leaf=2, max_features=sqrt, max_depth=15 \n",
            "[CV]  n_estimators=1100, min_samples_split=10, min_samples_leaf=2, max_features=sqrt, max_depth=15, total=   1.7s\n",
            "[CV] n_estimators=1100, min_samples_split=10, min_samples_leaf=2, max_features=sqrt, max_depth=15 \n",
            "[CV]  n_estimators=1100, min_samples_split=10, min_samples_leaf=2, max_features=sqrt, max_depth=15, total=   1.7s\n",
            "[CV] n_estimators=300, min_samples_split=100, min_samples_leaf=5, max_features=auto, max_depth=15 \n",
            "[CV]  n_estimators=300, min_samples_split=100, min_samples_leaf=5, max_features=auto, max_depth=15, total=   0.5s\n",
            "[CV] n_estimators=300, min_samples_split=100, min_samples_leaf=5, max_features=auto, max_depth=15 \n",
            "[CV]  n_estimators=300, min_samples_split=100, min_samples_leaf=5, max_features=auto, max_depth=15, total=   0.5s\n",
            "[CV] n_estimators=300, min_samples_split=100, min_samples_leaf=5, max_features=auto, max_depth=15 \n",
            "[CV]  n_estimators=300, min_samples_split=100, min_samples_leaf=5, max_features=auto, max_depth=15, total=   0.5s\n",
            "[CV] n_estimators=300, min_samples_split=100, min_samples_leaf=5, max_features=auto, max_depth=15 \n",
            "[CV]  n_estimators=300, min_samples_split=100, min_samples_leaf=5, max_features=auto, max_depth=15, total=   0.4s\n",
            "[CV] n_estimators=300, min_samples_split=100, min_samples_leaf=5, max_features=auto, max_depth=15 \n",
            "[CV]  n_estimators=300, min_samples_split=100, min_samples_leaf=5, max_features=auto, max_depth=15, total=   0.5s\n",
            "[CV] n_estimators=400, min_samples_split=5, min_samples_leaf=5, max_features=auto, max_depth=15 \n",
            "[CV]  n_estimators=400, min_samples_split=5, min_samples_leaf=5, max_features=auto, max_depth=15, total=   0.7s\n",
            "[CV] n_estimators=400, min_samples_split=5, min_samples_leaf=5, max_features=auto, max_depth=15 \n",
            "[CV]  n_estimators=400, min_samples_split=5, min_samples_leaf=5, max_features=auto, max_depth=15, total=   0.8s\n",
            "[CV] n_estimators=400, min_samples_split=5, min_samples_leaf=5, max_features=auto, max_depth=15 \n",
            "[CV]  n_estimators=400, min_samples_split=5, min_samples_leaf=5, max_features=auto, max_depth=15, total=   0.8s\n",
            "[CV] n_estimators=400, min_samples_split=5, min_samples_leaf=5, max_features=auto, max_depth=15 \n",
            "[CV]  n_estimators=400, min_samples_split=5, min_samples_leaf=5, max_features=auto, max_depth=15, total=   0.7s\n",
            "[CV] n_estimators=400, min_samples_split=5, min_samples_leaf=5, max_features=auto, max_depth=15 \n",
            "[CV]  n_estimators=400, min_samples_split=5, min_samples_leaf=5, max_features=auto, max_depth=15, total=   0.7s\n",
            "[CV] n_estimators=700, min_samples_split=5, min_samples_leaf=10, max_features=auto, max_depth=20 \n",
            "[CV]  n_estimators=700, min_samples_split=5, min_samples_leaf=10, max_features=auto, max_depth=20, total=   1.2s\n",
            "[CV] n_estimators=700, min_samples_split=5, min_samples_leaf=10, max_features=auto, max_depth=20 \n",
            "[CV]  n_estimators=700, min_samples_split=5, min_samples_leaf=10, max_features=auto, max_depth=20, total=   1.2s\n",
            "[CV] n_estimators=700, min_samples_split=5, min_samples_leaf=10, max_features=auto, max_depth=20 \n",
            "[CV]  n_estimators=700, min_samples_split=5, min_samples_leaf=10, max_features=auto, max_depth=20, total=   1.2s\n",
            "[CV] n_estimators=700, min_samples_split=5, min_samples_leaf=10, max_features=auto, max_depth=20 \n",
            "[CV]  n_estimators=700, min_samples_split=5, min_samples_leaf=10, max_features=auto, max_depth=20, total=   1.2s\n",
            "[CV] n_estimators=700, min_samples_split=5, min_samples_leaf=10, max_features=auto, max_depth=20 \n",
            "[CV]  n_estimators=700, min_samples_split=5, min_samples_leaf=10, max_features=auto, max_depth=20, total=   1.2s\n",
            "[CV] n_estimators=1000, min_samples_split=2, min_samples_leaf=1, max_features=sqrt, max_depth=25 \n",
            "[CV]  n_estimators=1000, min_samples_split=2, min_samples_leaf=1, max_features=sqrt, max_depth=25, total=   1.9s\n",
            "[CV] n_estimators=1000, min_samples_split=2, min_samples_leaf=1, max_features=sqrt, max_depth=25 \n",
            "[CV]  n_estimators=1000, min_samples_split=2, min_samples_leaf=1, max_features=sqrt, max_depth=25, total=   1.8s\n",
            "[CV] n_estimators=1000, min_samples_split=2, min_samples_leaf=1, max_features=sqrt, max_depth=25 \n",
            "[CV]  n_estimators=1000, min_samples_split=2, min_samples_leaf=1, max_features=sqrt, max_depth=25, total=   1.8s\n",
            "[CV] n_estimators=1000, min_samples_split=2, min_samples_leaf=1, max_features=sqrt, max_depth=25 \n",
            "[CV]  n_estimators=1000, min_samples_split=2, min_samples_leaf=1, max_features=sqrt, max_depth=25, total=   1.8s\n",
            "[CV] n_estimators=1000, min_samples_split=2, min_samples_leaf=1, max_features=sqrt, max_depth=25 \n",
            "[CV]  n_estimators=1000, min_samples_split=2, min_samples_leaf=1, max_features=sqrt, max_depth=25, total=   1.8s\n",
            "[CV] n_estimators=1100, min_samples_split=15, min_samples_leaf=10, max_features=sqrt, max_depth=5 \n",
            "[CV]  n_estimators=1100, min_samples_split=15, min_samples_leaf=10, max_features=sqrt, max_depth=5, total=   1.6s\n",
            "[CV] n_estimators=1100, min_samples_split=15, min_samples_leaf=10, max_features=sqrt, max_depth=5 \n",
            "[CV]  n_estimators=1100, min_samples_split=15, min_samples_leaf=10, max_features=sqrt, max_depth=5, total=   1.6s\n",
            "[CV] n_estimators=1100, min_samples_split=15, min_samples_leaf=10, max_features=sqrt, max_depth=5 \n",
            "[CV]  n_estimators=1100, min_samples_split=15, min_samples_leaf=10, max_features=sqrt, max_depth=5, total=   1.6s\n",
            "[CV] n_estimators=1100, min_samples_split=15, min_samples_leaf=10, max_features=sqrt, max_depth=5 \n",
            "[CV]  n_estimators=1100, min_samples_split=15, min_samples_leaf=10, max_features=sqrt, max_depth=5, total=   1.7s\n",
            "[CV] n_estimators=1100, min_samples_split=15, min_samples_leaf=10, max_features=sqrt, max_depth=5 \n",
            "[CV]  n_estimators=1100, min_samples_split=15, min_samples_leaf=10, max_features=sqrt, max_depth=5, total=   1.7s\n",
            "[CV] n_estimators=300, min_samples_split=15, min_samples_leaf=1, max_features=sqrt, max_depth=15 \n",
            "[CV]  n_estimators=300, min_samples_split=15, min_samples_leaf=1, max_features=sqrt, max_depth=15, total=   0.5s\n",
            "[CV] n_estimators=300, min_samples_split=15, min_samples_leaf=1, max_features=sqrt, max_depth=15 \n",
            "[CV]  n_estimators=300, min_samples_split=15, min_samples_leaf=1, max_features=sqrt, max_depth=15, total=   0.5s\n",
            "[CV] n_estimators=300, min_samples_split=15, min_samples_leaf=1, max_features=sqrt, max_depth=15 \n",
            "[CV]  n_estimators=300, min_samples_split=15, min_samples_leaf=1, max_features=sqrt, max_depth=15, total=   0.6s\n",
            "[CV] n_estimators=300, min_samples_split=15, min_samples_leaf=1, max_features=sqrt, max_depth=15 \n",
            "[CV]  n_estimators=300, min_samples_split=15, min_samples_leaf=1, max_features=sqrt, max_depth=15, total=   0.5s\n",
            "[CV] n_estimators=300, min_samples_split=15, min_samples_leaf=1, max_features=sqrt, max_depth=15 \n",
            "[CV]  n_estimators=300, min_samples_split=15, min_samples_leaf=1, max_features=sqrt, max_depth=15, total=   0.5s\n",
            "[CV] n_estimators=700, min_samples_split=10, min_samples_leaf=2, max_features=sqrt, max_depth=5 \n",
            "[CV]  n_estimators=700, min_samples_split=10, min_samples_leaf=2, max_features=sqrt, max_depth=5, total=   1.1s\n",
            "[CV] n_estimators=700, min_samples_split=10, min_samples_leaf=2, max_features=sqrt, max_depth=5 \n",
            "[CV]  n_estimators=700, min_samples_split=10, min_samples_leaf=2, max_features=sqrt, max_depth=5, total=   1.0s\n",
            "[CV] n_estimators=700, min_samples_split=10, min_samples_leaf=2, max_features=sqrt, max_depth=5 \n",
            "[CV]  n_estimators=700, min_samples_split=10, min_samples_leaf=2, max_features=sqrt, max_depth=5, total=   1.1s\n",
            "[CV] n_estimators=700, min_samples_split=10, min_samples_leaf=2, max_features=sqrt, max_depth=5 \n",
            "[CV]  n_estimators=700, min_samples_split=10, min_samples_leaf=2, max_features=sqrt, max_depth=5, total=   1.0s\n",
            "[CV] n_estimators=700, min_samples_split=10, min_samples_leaf=2, max_features=sqrt, max_depth=5 \n",
            "[CV]  n_estimators=700, min_samples_split=10, min_samples_leaf=2, max_features=sqrt, max_depth=5, total=   1.0s\n",
            "[CV] n_estimators=700, min_samples_split=15, min_samples_leaf=1, max_features=auto, max_depth=20 \n",
            "[CV]  n_estimators=700, min_samples_split=15, min_samples_leaf=1, max_features=auto, max_depth=20, total=   1.3s\n",
            "[CV] n_estimators=700, min_samples_split=15, min_samples_leaf=1, max_features=auto, max_depth=20 \n",
            "[CV]  n_estimators=700, min_samples_split=15, min_samples_leaf=1, max_features=auto, max_depth=20, total=   1.3s\n",
            "[CV] n_estimators=700, min_samples_split=15, min_samples_leaf=1, max_features=auto, max_depth=20 \n",
            "[CV]  n_estimators=700, min_samples_split=15, min_samples_leaf=1, max_features=auto, max_depth=20, total=   1.3s\n",
            "[CV] n_estimators=700, min_samples_split=15, min_samples_leaf=1, max_features=auto, max_depth=20 \n",
            "[CV]  n_estimators=700, min_samples_split=15, min_samples_leaf=1, max_features=auto, max_depth=20, total=   1.3s\n",
            "[CV] n_estimators=700, min_samples_split=15, min_samples_leaf=1, max_features=auto, max_depth=20 \n",
            "[CV]  n_estimators=700, min_samples_split=15, min_samples_leaf=1, max_features=auto, max_depth=20, total=   1.3s\n"
          ],
          "name": "stdout"
        },
        {
          "output_type": "stream",
          "text": [
            "[Parallel(n_jobs=1)]: Done  50 out of  50 | elapsed:   58.9s finished\n"
          ],
          "name": "stderr"
        },
        {
          "output_type": "execute_result",
          "data": {
            "text/plain": [
              "RandomizedSearchCV(cv=5, error_score=nan,\n",
              "                   estimator=RandomForestRegressor(bootstrap=True,\n",
              "                                                   ccp_alpha=0.0,\n",
              "                                                   criterion='mse',\n",
              "                                                   max_depth=None,\n",
              "                                                   max_features='auto',\n",
              "                                                   max_leaf_nodes=None,\n",
              "                                                   max_samples=None,\n",
              "                                                   min_impurity_decrease=0.0,\n",
              "                                                   min_impurity_split=None,\n",
              "                                                   min_samples_leaf=1,\n",
              "                                                   min_samples_split=2,\n",
              "                                                   min_weight_fraction_leaf=0.0,\n",
              "                                                   n_estimators=100,\n",
              "                                                   n_jobs=None, oob_score=Fals...\n",
              "                   iid='deprecated', n_iter=10, n_jobs=1,\n",
              "                   param_distributions={'max_depth': [5, 10, 15, 20, 25, 30],\n",
              "                                        'max_features': ['auto', 'sqrt'],\n",
              "                                        'min_samples_leaf': [1, 2, 5, 10],\n",
              "                                        'min_samples_split': [2, 5, 10, 15,\n",
              "                                                              100],\n",
              "                                        'n_estimators': [100, 200, 300, 400,\n",
              "                                                         500, 600, 700, 800,\n",
              "                                                         900, 1000, 1100,\n",
              "                                                         1200]},\n",
              "                   pre_dispatch='2*n_jobs', random_state=42, refit=True,\n",
              "                   return_train_score=False, scoring='neg_mean_squared_error',\n",
              "                   verbose=2)"
            ]
          },
          "metadata": {
            "tags": []
          },
          "execution_count": 128
        }
      ]
    },
    {
      "cell_type": "code",
      "metadata": {
        "id": "2qhf9KtKmnsL"
      },
      "source": [
        "predictions = rf_random.predict(X_test)"
      ],
      "execution_count": 130,
      "outputs": []
    },
    {
      "cell_type": "code",
      "metadata": {
        "colab": {
          "base_uri": "https://localhost:8080/"
        },
        "id": "bOOy-spYpnzn",
        "outputId": "377ef7f7-1ad0-4e1a-e9c7-2e94835c7465"
      },
      "source": [
        "print(Y_test - predictions)"
      ],
      "execution_count": 131,
      "outputs": [
        {
          "output_type": "stream",
          "text": [
            "816      0.311384\n",
            "890     37.189348\n",
            "392      8.600701\n",
            "386    -15.683359\n",
            "878      8.057496\n",
            "          ...    \n",
            "627     -9.802539\n",
            "409      5.384269\n",
            "1041    -9.716345\n",
            "352     -3.513345\n",
            "722     -7.778803\n",
            "Name: selling_price, Length: 126, dtype: float64\n"
          ],
          "name": "stdout"
        }
      ]
    },
    {
      "cell_type": "code",
      "metadata": {
        "colab": {
          "base_uri": "https://localhost:8080/",
          "height": 386
        },
        "id": "jTCVOgjzmnxH",
        "outputId": "fb16a746-bd03-426b-a243-c4e7f29f6570"
      },
      "source": [
        "sns.displot(Y_test - predictions)"
      ],
      "execution_count": 137,
      "outputs": [
        {
          "output_type": "execute_result",
          "data": {
            "text/plain": [
              "<seaborn.axisgrid.FacetGrid at 0x7fa39cad3b50>"
            ]
          },
          "metadata": {
            "tags": []
          },
          "execution_count": 137
        },
        {
          "output_type": "display_data",
          "data": {
            "image/png": "[encoded data removed]",
            "text/plain": [
              "<Figure size 360x360 with 1 Axes>"
            ]
          },
          "metadata": {
            "tags": [],
            "needs_background": "light"
          }
        }
      ]
    },
    {
      "cell_type": "code",
      "metadata": {
        "colab": {
          "base_uri": "https://localhost:8080/",
          "height": 285
        },
        "id": "sEsq2GYbmn06",
        "outputId": "aeaf94a7-1ad1-440d-82a9-c733a76a7c8a"
      },
      "source": [
        "plt.scatter(Y_test, predictions)"
      ],
      "execution_count": 138,
      "outputs": [
        {
          "output_type": "execute_result",
          "data": {
            "text/plain": [
              "<matplotlib.collections.PathCollection at 0x7fa39ce27b10>"
            ]
          },
          "metadata": {
            "tags": []
          },
          "execution_count": 138
        },
        {
          "output_type": "display_data",
          "data": {
            "image/png": "[encoded data removed]",
            "text/plain": [
              "<Figure size 432x288 with 1 Axes>"
            ]
          },
          "metadata": {
            "tags": [],
            "needs_background": "light"
          }
        }
      ]
    },
    {
      "cell_type": "code",
      "metadata": {
        "id": "xdHDT_Yumn4C"
      },
      "source": [
        "import pickle\n",
        "file = open('motorcycle_price_predictor_model.pkl', 'wb')\n",
        "pickle.dump(rf_random, file)"
      ],
      "execution_count": 140,
      "outputs": []
    }
  ]
}